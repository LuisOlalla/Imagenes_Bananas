{
 "cells": [
  {
   "cell_type": "code",
   "execution_count": 1,
   "id": "b45caa67",
   "metadata": {},
   "outputs": [],
   "source": [
    "import cv2\n",
    "import numpy as np\n",
    "import os\n",
    "os.environ['TF_CPP_MIN_LOG_LEVEL'] = '3' \n",
    "import shutil\n",
    "import glob\n",
    "import pandas as pd\n",
    "import matplotlib.pyplot as plt\n",
    "import seaborn as sn\n",
    "from tensorflow.keras.utils import img_to_array,  array_to_img, img_to_array, load_img\n",
    "from  PIL  import Image\n",
    "#from rembg import remove\n",
    "from sklearn.preprocessing import MinMaxScaler\n",
    "import h5py\n",
    "from time import sleep"
   ]
  },
  {
   "cell_type": "code",
   "execution_count": 8,
   "id": "840aa054",
   "metadata": {},
   "outputs": [
    {
     "name": "stdout",
     "output_type": "stream",
     "text": [
      "['totally_green', 'yellow_with_brown_spots', 'yellow_with_green_tips']\n"
     ]
    }
   ],
   "source": [
    "images_path = \"C:\\\\Users\\\\Usuario\\\\Documents\\\\SEXTO\\\\ASIGNATURAS\\\\INTELIGENCIA ARTIFICIAL\\\\TERCER PARCIAL\\\\Banana_Ripeness_Dataset\"\n",
    "class_names = os.listdir(images_path)\n",
    "class_names.sort()\n",
    "print(class_names)"
   ]
  },
  {
   "cell_type": "code",
   "execution_count": null,
   "id": "e53bae25",
   "metadata": {},
   "outputs": [],
   "source": [
    "for class_name in class_names:\n",
    "    cur_path = images_path + \"/\" + class_name\n",
    "    elements = os.listdir(cur_path)\n",
    "    \n",
    "    for element in elements:\n",
    "        print(\"Copying Image - {} in Banana_Ripeness_Dataset_Augmented/{}\".format(element, class_name))\n",
    "        src = os.path.join(images_path + \"/\" + class_name, element) # origen\n",
    "        dst = os.path.join(\"./Banana_Ripeness_Dataset_Augmented/\" + class_name, element) \n",
    "        shutil.copy(src, dst)"
   ]
  }
 ],
 "metadata": {
  "kernelspec": {
   "display_name": "Python 3 (ipykernel)",
   "language": "python",
   "name": "python3"
  },
  "language_info": {
   "codemirror_mode": {
    "name": "ipython",
    "version": 3
   },
   "file_extension": ".py",
   "mimetype": "text/x-python",
   "name": "python",
   "nbconvert_exporter": "python",
   "pygments_lexer": "ipython3",
   "version": "3.9.12"
  }
 },
 "nbformat": 4,
 "nbformat_minor": 5
}
